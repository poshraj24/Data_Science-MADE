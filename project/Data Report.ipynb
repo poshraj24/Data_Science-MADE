{
 "cells": [
  {
   "cell_type": "markdown",
   "id": "41daaefe",
   "metadata": {},
   "source": [
    "# Unveiling the Climate Crisis: A Data Science Investigation of Climate Related Issues ($CO_2$ emissions and climated related disasters) and Solutions"
   ]
  },
  {
   "cell_type": "markdown",
   "id": "c4d1624e",
   "metadata": {},
   "source": [
    "<h2>Introduction:</h2>"
   ]
  },
  {
   "cell_type": "markdown",
   "id": "8a3e32b5",
   "metadata": {},
   "source": [
    "This project investigates the relationship between global warming trends (specifically $CO_2$ emissions) and the increase in climate-related disasters, analyzed on a yearly and country-wise basis. Utilizing data science techniques, including statistical and machine learning methods, we examine the impact of various factors (e.g., greenhouse gas emissions, land use changes, population growth) on the observed increase in disasters."
   ]
  },
  {
   "cell_type": "markdown",
   "id": "38715359",
   "metadata": {},
   "source": [
    "<h3><u>Main Question</u></h3>"
   ]
  },
  {
   "cell_type": "markdown",
   "id": "15851d56",
   "metadata": {},
   "source": [
    "How did global warming accelerate, what are the associated climate-related disasters, and how can it be mitigated?"
   ]
  },
  {
   "cell_type": "markdown",
   "id": "4db3b22c",
   "metadata": {},
   "source": [
    "<h3><u> Data Sources</u> </h3><br>\n",
    "<b>CO₂ Emission by Countries Year Wise (1750-2022):</b> Selected for its long-term, country-level detail on CO₂ emissions, crucial for understanding historical trends. <br>\n",
    "<b>Climate Change Data (IMF):</b> Chosen for its focus on the relationship between climate change and natural disasters, aligning with our project's core question.\n"
   ]
  },
  {
   "cell_type": "markdown",
   "id": "f2821d36",
   "metadata": {},
   "source": [
    "<b>Origin & Content:</b><br>\n",
    "<b>CO₂ Emissions:</b> The selected Kaggle dataset provides a comprehensive record of annual CO₂ emissions by country from 1750 to 2022, including details on emissions, population, area, and density, chosen due to the lack of comparable long-term data on the platform.<br><br>\n",
    "<b>Climate Disaster Data:</b> IMF dataset, sourced from a variety of climate change literature, includes metrics on natural disasters, potentially linked to climate indicators like temperature or sea level. The reason for selecting this dataset is that it takes various verified sources as a reference and used to update yearly. The links between climate change and natural disasters are well documented in a wide variety of climate change literature. The dataset covers disasters that killed ten (10) or more people, affected hundred (100) or more people, led to declaration of a state of emergency and led to call for international assistance.  "
   ]
  },
  {
   "cell_type": "markdown",
   "id": "0cd1e2d5",
   "metadata": {},
   "source": [
    "<b>Structure & Quality:</b>"
   ]
  },
  {
   "cell_type": "markdown",
   "id": "31d47ba6",
   "metadata": {},
   "source": [
    "<table>\n",
    "  <tr>\n",
    "    <th>Data Source</th>\n",
    "    <th>Structure</th>\n",
    "      <th>Quality</th>\n",
    "      <th>Notes</th>\n",
    "  </tr>\n",
    "  <tr>\n",
    "    <td>CO₂ Emissions</td>\n",
    "    <td>CSV</td>\n",
    "      <td>High: Consistent, well-structured</td>\n",
    "      <td>Potential for gaps in early or less-developed countries</td>\n",
    "  </tr>\n",
    "  <tr>\n",
    "    <td>Climate Change Data (IMF)</td>\n",
    "    <td>CSV</td>\n",
    "      <td>Medium: Variable, dependent on source literature</td>\n",
    "      <td>Need to carefully assess methodology of included studies</td>\n",
    "  </tr>\n",
    "  \n",
    "</table>"
   ]
  },
  {
   "cell_type": "markdown",
   "id": "d8681d76",
   "metadata": {},
   "source": [
    "<b>Licenses & Obligations:</b>"
   ]
  },
  {
   "cell_type": "markdown",
   "id": "d84d2fce",
   "metadata": {},
   "source": [
    "Both datasets appear to be available for open use (Kaggle dataset requires attribution). We will:\n",
    "\n",
    "<b>Attribution:</b> Clearly cite both sources in our project.<br>\n",
    "<b>Kaggle:</b>(CC0: Public Domain) Per the author, the dataset is intended to help researchers and environemnt experts to predict about the global warming.<br>\n",
    "<b>IMF:</b> Per IMF, the data is made available by EM-DAT, CRED / UCLouvain, Brussels, Belgium. Regarding the liscense permission, we are allowed to download, create link to the IMF website for noncommercial usage only, without any right to resell or redistribute or to compile or create derivative works."
   ]
  },
  {
   "cell_type": "markdown",
   "id": "55328b69",
   "metadata": {},
   "source": [
    "<h3><b><u>Data Pipeline</u></b></h3>"
   ]
  },
  {
   "cell_type": "markdown",
   "id": "e20226dc",
   "metadata": {},
   "source": [
    "<i>In order to build a robust pipeline, we are using Python programming language. The major steps our pipeline follows are as follows:</i>\n",
    "\n",
    "1. **Ingestion:**\n",
    "   - Python scripts load CSV data from Kaggle (CO₂ emissions) and the IMF platform (disaster data).\n",
    "\n",
    "2. **Cleaning & Transformation:**\n",
    "   * **Both Datasets:**\n",
    "      - Unnecessary columns are dropped and column names are made more meaningful. Date formats and country codes are standardized. Missing values are handled:\n",
    "         - Some rows with entirely missing data are removed.\n",
    "         - Missing values in specific columns (e.g., disaster numbers) are filled with '0.0' as it doesn't affect the analysis.\n",
    "         - Relevant substrings are extracted for focused analysis.\n",
    "   * **CO₂ Emissions:**\n",
    "      - Data is aggregated to regional or global levels for broader insights.\n",
    "   * **Filtering by Date:** \n",
    "      - We have CO<sub>2</sub> data from 1750, but disaster data only from 1980 onwards. The data is filtered to include only dates after 1980 for consistency. \n",
    "\n",
    "3. **Joining:**\n",
    "   - The cleaned datasets are merged based on country/region code, creating a combined table with emissions and disaster data per year.\n",
    "\n",
    "4. **Feature Engineering:**\n",
    "   - Additional features are calculated, such as rolling averages of CO<sub>2</sub> emissions to smooth out yearly fluctuations, trends in disaster occurrences to identify patterns over time, climate change indicators derived from scientific literature etc.\n",
    "\n",
    "5. **Output:**\n",
    "   - The processed and enriched data is stored as an SQLite database file for efficient analysis and potential modeling in later stages. \n"
   ]
  },
  {
   "cell_type": "markdown",
   "id": "ad45b480",
   "metadata": {},
   "source": [
    "**Problems Encountered:**\n",
    "   - Kaggle Dataset authentication: For ease of use and centralized configuration, Kaggle credentials were stored as an environment variable, and a single config file managed parameters for the data pipeline's loading, cleaning, and subsequent stages.\n",
    "    - Missing country codes in kaggle data set: A dictionary was used to fill in missing country codes in the dataset, ensuring standardization and consistency with the two-digit format.\n",
    "   - Data Availability: In climate related dataset, we have the data only after 1980. Therefore, we can only consider the data after 1980 for both datasets. \n",
    "   - Data Type Conversion: The presence of special characters and symbols in certain columns posed a challenge for accurate data type conversion, necessitating careful selection and extraction of relevant data subsets to ensure meaningful analysis. \n",
    "   \n"
   ]
  },
  {
   "cell_type": "markdown",
   "id": "aed3b53e",
   "metadata": {},
   "source": [
    "**Result and Limitations:**\n",
    "   - Data Output: The data pipeline generates two output files: a CSV for sharing and initial review, and an SQLite database for efficient analysis and correlation exploration, both containing only relevant, filtered data.\n",
    "   - Output preferance file (sqlite): SQLite is ideal for data analysis tasks due to its fast read performance, standard SQL language support, and convenient Python interface through the sqlite3 module, making it easy to query and manipulate data directly within your analysis code.\n",
    "   - Potential Issues: Potential challenges remain despite a successful data pipeline implementation. Removing rows with null values could introduce bias and data loss. Inherent biases in data sources, collection methods, and underlying studies may affect results. While correlation between CO₂ emissions and climate disasters might be observed, establishing causality is complex due to potential confounding factors, requiring further exploration and consideration of broader climate science contexts for accurate interpretation."
   ]
  }
 ],
 "metadata": {
  "kernelspec": {
   "display_name": "Python 3 (ipykernel)",
   "language": "python",
   "name": "python3"
  },
  "language_info": {
   "codemirror_mode": {
    "name": "ipython",
    "version": 3
   },
   "file_extension": ".py",
   "mimetype": "text/x-python",
   "name": "python",
   "nbconvert_exporter": "python",
   "pygments_lexer": "ipython3",
   "version": "3.11.3"
  }
 },
 "nbformat": 4,
 "nbformat_minor": 5
}
